{
 "cells": [
  {
   "cell_type": "code",
   "execution_count": 1,
   "metadata": {},
   "outputs": [],
   "source": [
    "import numpy as\tnp;\n",
    "import numpy.random as nr;\n",
    "import scipy.linalg as LA;\n",
    "import matplotlib.pyplot as plt;\n",
    "import math;"
   ]
  },
  {
   "cell_type": "markdown",
   "metadata": {},
   "source": [
    "# PART A/B: 10,000 Paths of Gambler's Ruin Beginning at $100"
   ]
  },
  {
   "cell_type": "code",
   "execution_count": 2,
   "metadata": {},
   "outputs": [],
   "source": [
    "win = 18/38"
   ]
  },
  {
   "cell_type": "code",
   "execution_count": 3,
   "metadata": {},
   "outputs": [],
   "source": [
    "size = 50000"
   ]
  },
  {
   "cell_type": "code",
   "execution_count": 15,
   "metadata": {},
   "outputs": [
    {
     "name": "stdout",
     "output_type": "stream",
     "text": [
      "The Probability of Hitting $200 before $0 is 0.0\n"
     ]
    }
   ],
   "source": [
    "N = 10000\n",
    "\n",
    "\n",
    "hit_2b1 = 0\n",
    "\n",
    "for _ in range(N):\n",
    "    a = np.random.uniform(low=0.0,high=1.0,size=size)\n",
    "    c = np.cumsum(np.insert(np.where(a < win,1,-1),0,0))\n",
    "    \n",
    "    a1 = np.argwhere(c[1:]==200)\n",
    "    \n",
    "    if (a1.size >0):\n",
    "        a2 = np.argwhere(c[1:]==100)\n",
    "        \n",
    "        if (a1[0][0] < a2[0][0]):\n",
    "            hit_2b1 += 1\n",
    "   \n",
    "    \n",
    "print(\"The Probability of Hitting $200 before $0 is {}\".format(hit_2b1/N))"
   ]
  },
  {
   "cell_type": "markdown",
   "metadata": {},
   "source": [
    "# PART C: Repeated with 100,000 Paths"
   ]
  },
  {
   "cell_type": "code",
   "execution_count": 16,
   "metadata": {},
   "outputs": [
    {
     "name": "stdout",
     "output_type": "stream",
     "text": [
      "The Probability of Hitting $200 before $0 is 0.0\n"
     ]
    }
   ],
   "source": [
    "N = 100000\n",
    "\n",
    "\n",
    "hit_2b1 = 0\n",
    "\n",
    "for _ in range(N):\n",
    "    a = np.random.uniform(low=0.0,high=1.0,size=size)\n",
    "    c = np.cumsum(np.insert(np.where(a < win,1,-1),0,0))\n",
    "    \n",
    "    a1 = np.argwhere(c[1:]==200)\n",
    "    \n",
    "    if (a1.size >0):\n",
    "        a2 = np.argwhere(c[1:]==0)\n",
    "        \n",
    "        if (a1[0][0] < a2[0][0]):\n",
    "            hit_2b1 += 1\n",
    "    \n",
    "print(\"The Probability of Hitting $200 before $0 is {}\".format(hit_2b1/N))"
   ]
  },
  {
   "cell_type": "code",
   "execution_count": null,
   "metadata": {},
   "outputs": [],
   "source": []
  },
  {
   "cell_type": "markdown",
   "metadata": {},
   "source": [
    "# PART D: 10,000 Paths Repeated with starting fortune at $180"
   ]
  },
  {
   "cell_type": "code",
   "execution_count": 17,
   "metadata": {},
   "outputs": [
    {
     "name": "stdout",
     "output_type": "stream",
     "text": [
      "The Probability of Hitting $200 before $0 is 0.1255\n"
     ]
    }
   ],
   "source": [
    "N = 10000\n",
    "\n",
    "hit_2b1 = 0\n",
    "\n",
    "for _ in range(N):\n",
    "    a = np.random.uniform(low=0.0,high=1.0,size=size)\n",
    "    c = np.cumsum(np.insert(np.where(a < win,1,-1),0,180))\n",
    "    \n",
    "    a1 = np.argwhere(c[1:]==200)\n",
    "    \n",
    "    if (a1.size >0):\n",
    "        a2 = np.argwhere(c[1:]==0)\n",
    "        \n",
    "        if (a1[0][0] < a2[0][0]):\n",
    "            hit_2b1 += 1\n",
    "   \n",
    "    \n",
    "print(\"The Probability of Hitting $200 before $0 is {}\".format(hit_2b1/N))"
   ]
  },
  {
   "cell_type": "code",
   "execution_count": null,
   "metadata": {},
   "outputs": [],
   "source": []
  },
  {
   "cell_type": "markdown",
   "metadata": {},
   "source": [
    "# PART D: 10,000 Paths Repeated with starting fortune at $190"
   ]
  },
  {
   "cell_type": "code",
   "execution_count": 19,
   "metadata": {},
   "outputs": [
    {
     "name": "stdout",
     "output_type": "stream",
     "text": [
      "The Probability of Hitting $200 before $0 is 0.3544\n"
     ]
    }
   ],
   "source": [
    "N = 10000\n",
    "\n",
    "hit_2b1 = 0\n",
    "\n",
    "for _ in range(N):\n",
    "    a = np.random.uniform(low=0.0,high=1.0,size=size)\n",
    "    c = np.cumsum(np.insert(np.where(a < win,1,-1),0,190))\n",
    "    \n",
    "    a1 = np.argwhere(c[1:]==200)\n",
    "    \n",
    "    if (a1.size >0):\n",
    "        a2 = np.argwhere(c[1:]==0)\n",
    "        \n",
    "        if (a1[0][0] < a2[0][0]):\n",
    "            hit_2b1 += 1\n",
    "       \n",
    "print(\"The Probability of Hitting $200 before $0 is {}\".format(hit_2b1/N))"
   ]
  },
  {
   "cell_type": "markdown",
   "metadata": {},
   "source": [
    "# To get to P of  $200$ be will need to begin at  $194$ with the give probability drift down of 18/38"
   ]
  },
  {
   "cell_type": "code",
   "execution_count": 21,
   "metadata": {},
   "outputs": [
    {
     "name": "stdout",
     "output_type": "stream",
     "text": [
      "The Probability of Hitting $200 before $0 is 0.5298\n"
     ]
    }
   ],
   "source": [
    "N = 10000\n",
    "\n",
    "hit_2b1 = 0\n",
    "\n",
    "for _ in range(N):\n",
    "    a = np.random.uniform(low=0.0,high=1.0,size=size)\n",
    "    c = np.cumsum(np.insert(np.where(a < win,1,-1),0,194))\n",
    "    \n",
    "    a1 = np.argwhere(c[1:]==200)\n",
    "    \n",
    "    if (a1.size >0):\n",
    "        a2 = np.argwhere(c[1:]==0)\n",
    "        \n",
    "        if (a1[0][0] < a2[0][0]):\n",
    "            hit_2b1 += 1\n",
    "       \n",
    "print(\"The Probability of Hitting $200 before $0 is {}\".format(hit_2b1/N))"
   ]
  },
  {
   "cell_type": "code",
   "execution_count": null,
   "metadata": {},
   "outputs": [],
   "source": []
  }
 ],
 "metadata": {
  "kernelspec": {
   "display_name": "Python 3",
   "language": "python",
   "name": "python3"
  },
  "language_info": {
   "codemirror_mode": {
    "name": "ipython",
    "version": 3
   },
   "file_extension": ".py",
   "mimetype": "text/x-python",
   "name": "python",
   "nbconvert_exporter": "python",
   "pygments_lexer": "ipython3",
   "version": "3.7.4"
  }
 },
 "nbformat": 4,
 "nbformat_minor": 2
}
